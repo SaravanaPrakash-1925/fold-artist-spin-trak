{
  "nbformat": 4,
  "nbformat_minor": 0,
  "metadata": {
    "colab": {
      "provenance": [],
      "gpuType": "T4"
    },
    "kernelspec": {
      "name": "python3",
      "display_name": "Python 3"
    },
    "language_info": {
      "name": "python"
    },
    "accelerator": "GPU"
  },
  "cells": [
    {
      "cell_type": "code",
      "source": [
        "import torch\n",
        "import librosa\n",
        "import json\n",
        "from transformers import ClapModel, ClapProcessor\n",
        "\n",
        "# Load the CLAP model and processor\n",
        "model = ClapModel.from_pretrained(\"laion/clap-htsat-fused\")\n",
        "processor = ClapProcessor.from_pretrained(\"laion/clap-htsat-fused\")\n",
        "\n",
        "# Define mood descriptions (text prompts)\n",
        "moods = [\n",
        "    \"This audio sounds happy and cheerful.\",\n",
        "    \"This audio sounds sad and melancholic.\",\n",
        "    \"This audio is calm and relaxing.\",\n",
        "    \"This audio is energetic and upbeat.\",\n",
        "    \"This audio sounds angry and intense.\",\n",
        "    \"This audio sounds fearful and suspenseful.\",\n",
        "    \"This audio is joyful and uplifting.\",\n",
        "    \"This audio sounds dark and ominous.\",\n",
        "    \"This audio feels romantic and emotional.\",\n",
        "    \"This audio is dreamy and atmospheric.\",\n",
        "    \"This audio sounds tense and dramatic.\",\n",
        "    \"This audio feels lonely and isolated.\"\n",
        "]\n",
        "\n",
        "# Step 1: Load and preprocess the audio file\n",
        "def extract_metadata(audio_path):\n",
        "    waveform, sr = librosa.load(audio_path, sr=48000, mono=True)  # Convert to 48kHz mono\n",
        "\n",
        "    # Step 2: Process audio to get the audio embedding\n",
        "    audio_inputs = processor(audios=waveform, sampling_rate=48000, return_tensors=\"pt\", padding=True)\n",
        "    audio_embedding = model.get_audio_features(**audio_inputs)\n",
        "\n",
        "    # Step 3: Process mood text prompts to get text embeddings\n",
        "    text_embeddings = []\n",
        "    for mood in moods:\n",
        "        text_inputs = processor(text=[mood], return_tensors=\"pt\", padding=True)\n",
        "        text_embedding = model.get_text_features(**text_inputs)\n",
        "        text_embeddings.append(text_embedding)\n",
        "\n",
        "    # Step 4: Calculate cosine similarities\n",
        "    cosine_similarities = [\n",
        "        torch.nn.functional.cosine_similarity(audio_embedding, text_embedding).item()\n",
        "        for text_embedding in text_embeddings\n",
        "    ]\n",
        "\n",
        "    # Step 5: Get the top 3 moods and their scores\n",
        "    top_3_indices = sorted(range(len(cosine_similarities)), key=lambda i: cosine_similarities[i], reverse=True)[:3]\n",
        "    top_3_moods = [\n",
        "        (moods[i].replace(\"This audio sounds\", \"\").strip(), cosine_similarities[i])\n",
        "        for i in top_3_indices\n",
        "    ]\n",
        "\n",
        "    # Step 6: Prepare metadata as JSON\n",
        "    metadata = {\n",
        "        \"audio_file\": audio_path.split(\"/\")[-1],  # Extract only the file name\n",
        "        \"top_moods\": [\n",
        "            {\"mood\": mood, \"score\": round(score, 4)}\n",
        "            for mood, score in top_3_moods\n",
        "        ]\n",
        "    }\n",
        "\n",
        "    return metadata\n",
        "\n",
        "# Example usage\n",
        "audio_path = \"/content/drive/MyDrive/dataset/processed/Beat Won_t Stop.wav\"\n",
        "metadata = extract_metadata(audio_path)\n",
        "\n",
        "# Save metadata to a JSON file\n",
        "output_file = \"Beat Won_t Stop_metadata.json\"\n",
        "with open(output_file, \"w\") as f:\n",
        "    json.dump(metadata, f, indent=4)\n",
        "\n",
        "print(f\"Metadata saved to {output_file}.\")\n",
        "print(json.dumps(metadata, indent=4))\n"
      ],
      "metadata": {
        "colab": {
          "base_uri": "https://localhost:8080/"
        },
        "id": "btvE-EDHo2Ig",
        "outputId": "95f53016-cd73-44d1-d51c-028f7507c339"
      },
      "execution_count": null,
      "outputs": [
        {
          "output_type": "stream",
          "name": "stdout",
          "text": [
            "Metadata saved to Beat Won_t Stop_metadata.json.\n",
            "{\n",
            "    \"audio_file\": \"Beat Won_t Stop.wav\",\n",
            "    \"top_moods\": [\n",
            "        {\n",
            "            \"mood\": \"dark and ominous.\",\n",
            "            \"score\": 0.4603\n",
            "        },\n",
            "        {\n",
            "            \"mood\": \"tense and dramatic.\",\n",
            "            \"score\": 0.3349\n",
            "        },\n",
            "        {\n",
            "            \"mood\": \"fearful and suspenseful.\",\n",
            "            \"score\": 0.3309\n",
            "        }\n",
            "    ]\n",
            "}\n"
          ]
        }
      ]
    }
  ]
}