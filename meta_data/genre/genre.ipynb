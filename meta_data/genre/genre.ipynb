{
  "nbformat": 4,
  "nbformat_minor": 0,
  "metadata": {
    "colab": {
      "provenance": [],
      "gpuType": "T4"
    },
    "kernelspec": {
      "name": "python3",
      "display_name": "Python 3"
    },
    "language_info": {
      "name": "python"
    },
    "accelerator": "GPU"
  },
  "cells": [
    {
      "cell_type": "code",
      "execution_count": null,
      "metadata": {
        "id": "51-v5L8ScpDQ",
        "colab": {
          "base_uri": "https://localhost:8080/"
        },
        "outputId": "046eec07-ad3e-470d-e1c3-4ce3f19557bc"
      },
      "outputs": [
        {
          "output_type": "stream",
          "name": "stdout",
          "text": [
            "Processing: U Got Me_segment_2.wav\n",
            "Predicted genre: Hip-Hop (Confidence: 74.19%)\n",
            "Processing: U Got Me_segment_3.wav\n",
            "Predicted genre: International (Confidence: 60.45%)\n",
            "Processing: U Got Me_segment_6.wav\n",
            "Predicted genre: International (Confidence: 65.25%)\n",
            "Processing: U Got Me_segment_5.wav\n",
            "Predicted genre: International (Confidence: 53.34%)\n",
            "Processing: U Got Me_segment_4.wav\n",
            "Predicted genre: Hip-Hop (Confidence: 60.64%)\n",
            "Processing: U Got Me_segment_1.wav\n",
            "Predicted genre: International (Confidence: 68.95%)\n",
            "Processed 6 files. Results saved to /content/U Got Me/U Got Me_genre_predictions.json.\n"
          ]
        }
      ],
      "source": [
        "import os\n",
        "import json\n",
        "from transformers import Wav2Vec2ForSequenceClassification, Wav2Vec2FeatureExtractor\n",
        "import librosa\n",
        "import torch\n",
        "\n",
        "# Genre mapping\n",
        "genre_mapping = {\n",
        "    0: \"Electronic\",\n",
        "    1: \"Rock\",\n",
        "    2: \"Punk\",\n",
        "    3: \"Experimental\",\n",
        "    4: \"Hip-Hop\",\n",
        "    5: \"Folk\",\n",
        "    6: \"Chiptune / Glitch\",\n",
        "    7: \"Instrumental\",\n",
        "    8: \"Pop\",\n",
        "    9: \"International\",\n",
        "}\n",
        "\n",
        "# Load model and feature extractor using Facebook Wav2vec2 and gastondault Music-classifier\n",
        "model = Wav2Vec2ForSequenceClassification.from_pretrained(\"gastonduault/music-classifier\")\n",
        "feature_extractor = Wav2Vec2FeatureExtractor.from_pretrained(\"facebook/wav2vec2-large\")\n",
        "\n",
        "# Function for preprocessing audio\n",
        "def preprocess_audio(audio_path):\n",
        "    try:\n",
        "        audio_array, sampling_rate = librosa.load(audio_path, sr=16000)\n",
        "        return feature_extractor(audio_array, sampling_rate=16000, return_tensors=\"pt\", padding=True)\n",
        "    except Exception as e:\n",
        "        print(f\"Error processing {audio_path}: {e}\")\n",
        "        return None\n",
        "\n",
        "# Function for predicting genre\n",
        "def predict_genre(audio_path):\n",
        "    inputs = preprocess_audio(audio_path)\n",
        "    if inputs is None:\n",
        "        return None\n",
        "    with torch.no_grad():\n",
        "        logits = model(**inputs).logits\n",
        "        predicted_class = torch.argmax(logits, dim=-1).item()\n",
        "        confidence = torch.softmax(logits, dim=-1)[0, predicted_class].item()\n",
        "    return genre_mapping[predicted_class], confidence\n",
        "\n",
        "# Directory of audio samples\n",
        "audio_directory = \"/content/U Got Me\"  # Replace with your directory path\n",
        "output_results = []\n",
        "\n",
        "# Iterate over all .wav files in the directory\n",
        "for filename in os.listdir(audio_directory):\n",
        "    if filename.endswith(\".wav\"):\n",
        "        audio_path = os.path.join(audio_directory, filename)\n",
        "        print(f\"Processing: {filename}\")\n",
        "        result = predict_genre(audio_path)\n",
        "        if result:\n",
        "            genre, confidence = result\n",
        "            output_results.append({\n",
        "                \"filename\": filename,\n",
        "                \"genre\": genre,\n",
        "                \"confidence\": f\"{confidence:.2%}\"\n",
        "            })\n",
        "            print(f\"Predicted genre: {genre} (Confidence: {confidence:.2%})\")\n",
        "\n",
        "# Save results to a JSON file\n",
        "output_file = os.path.join(audio_directory, \"U Got Me_genre_predictions.json\")\n",
        "with open(output_file, \"w\") as f:\n",
        "    json.dump(output_results, f, indent=4)\n",
        "\n",
        "print(f\"Processed {len(output_results)} files. Results saved to {output_file}.\")\n"
      ]
    },
    {
      "cell_type": "code",
      "source": [],
      "metadata": {
        "id": "el4C4YyMsaPc"
      },
      "execution_count": null,
      "outputs": []
    }
  ]
}