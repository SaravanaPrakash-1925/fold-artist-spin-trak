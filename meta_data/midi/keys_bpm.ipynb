{
  "nbformat": 4,
  "nbformat_minor": 0,
  "metadata": {
    "colab": {
      "provenance": []
    },
    "kernelspec": {
      "name": "python3",
      "display_name": "Python 3"
    },
    "language_info": {
      "name": "python"
    }
  },
  "cells": [
    {
      "cell_type": "markdown",
      "source": [
        "Key, tempo(BPM)"
      ],
      "metadata": {
        "id": "DezeuJa9zQvA"
      }
    },
    {
      "cell_type": "code",
      "execution_count": null,
      "metadata": {
        "id": "EcTJ-YNNyamr"
      },
      "outputs": [],
      "source": [
        "import os\n",
        "import json\n",
        "from essentia.standard import MonoLoader, KeyExtractor, RhythmExtractor2013\n",
        "\n",
        "# Define the directory containing the audio files\n",
        "directory_path = \"/content/processed\"  # Replace with your directory path(in .wav files)\n",
        "\n",
        "# List to store results\n",
        "results = []\n",
        "\n",
        "# Iterate through all files in the directory\n",
        "for file_name in os.listdir(directory_path):\n",
        "    if file_name.endswith(\".wav\") or file_name.endswith(\".mp3\"):\n",
        "        file_path = os.path.join(directory_path, file_name)\n",
        "        print(f\"Processing: {file_name}\")\n",
        "\n",
        "        # Load the audio file\n",
        "        loader = MonoLoader(filename=file_path)\n",
        "        audio = loader()\n",
        "\n",
        "        # Extract the key\n",
        "        key_extractor = KeyExtractor()\n",
        "        key, scale, strength = key_extractor(audio)\n",
        "\n",
        "        # Extract the tempo (BPM)\n",
        "        rhythm_extractor = RhythmExtractor2013(method=\"multifeature\")\n",
        "        bpm, confidence, _, _, _ = rhythm_extractor(audio)\n",
        "\n",
        "        # Convert bpm to scalar (if it's a numpy array)\n",
        "        bpm = float(bpm)\n",
        "\n",
        "        # Append the result as a dictionary\n",
        "        results.append({\n",
        "            \"file_name\": file_name,\n",
        "            \"key\": key,\n",
        "            \"scale\": scale,\n",
        "            \"strength\": round(strength, 2),\n",
        "            \"tempo_bpm\": round(bpm, 2)\n",
        "        })\n",
        "\n",
        "# Print results\n",
        "print(\"\\nFinal Results in JSON Format:\")\n",
        "print(json.dumps(results, indent=4))\n",
        "\n",
        "# Optionally save the results to a JSON file\n",
        "output_path = os.path.join(directory_path, \"results.json\")\n",
        "with open(output_path, \"w\") as json_file:\n",
        "    json.dump(results, json_file, indent=4)\n",
        "\n",
        "print(f\"\\nResults saved to: {output_path}\")\n"
      ]
    },
    {
      "cell_type": "markdown",
      "source": [
        "MIDI"
      ],
      "metadata": {
        "id": "qfhQpqMxykVQ"
      }
    },
    {
      "cell_type": "code",
      "source": [
        "import os\n",
        "import shutil\n",
        "from basic_pitch.inference import predict_and_save\n",
        "from basic_pitch import ICASSP_2022_MODEL_PATH\n",
        "\n",
        "# Define the base directory containing the stems\n",
        "base_dir = '/content/5' # Adjust to your actual path where stems are present\n",
        "\n",
        "# Function to process each audio file\n",
        "def process_audio_file(audio_path, output_dir):\n",
        "    # Ensure the output directory exists\n",
        "    os.makedirs(output_dir, exist_ok=True)\n",
        "    # Perform prediction and save the MIDI file\n",
        "    predict_and_save(\n",
        "        audio_path_list=[audio_path],  # Corrected argument name\n",
        "        output_directory=output_dir,\n",
        "        save_midi=True,\n",
        "        sonify_midi=False,\n",
        "        save_model_outputs=False,\n",
        "        save_notes=False,\n",
        "        model_or_model_path=ICASSP_2022_MODEL_PATH\n",
        "    )\n",
        "\n",
        "# Traverse the directory structure\n",
        "for root, dirs, files in os.walk(base_dir):\n",
        "    for file in files:\n",
        "        if file.endswith('.wav'):\n",
        "            audio_path = os.path.join(root, file)\n",
        "            # Define the corresponding output directory for MIDI files\n",
        "            relative_path = os.path.relpath(root, base_dir)\n",
        "            output_dir = os.path.join('/content/o-5', relative_path)  # Adjust output path as needed\n",
        "            process_audio_file(audio_path, output_dir)\n",
        "\n",
        "# Define the output directory and ZIP file path\n",
        "output_dir = '/content/o-5'\n",
        "zip_file_path = '/mnt/data/5.zip'\n",
        "\n",
        "# Check if the output directory exists\n",
        "if os.path.exists(output_dir):\n",
        "    # Create a ZIP file of the directory\n",
        "    shutil.make_archive(base_name=zip_file_path.replace('.zip', ''), format='zip', root_dir=output_dir)\n",
        "    print(f\"Output directory zipped successfully. Download the ZIP file from {zip_file_path}\")\n",
        "else:\n",
        "    print(f\"Output directory '{output_dir}' does not exist. Ensure the processing step is completed.\")\n"
      ],
      "metadata": {
        "id": "cCrEWCORylYH"
      },
      "execution_count": null,
      "outputs": []
    }
  ]
}