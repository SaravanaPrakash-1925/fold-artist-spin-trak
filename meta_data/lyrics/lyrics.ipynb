{
  "cells": [
    {
      "cell_type": "code",
      "execution_count": null,
      "metadata": {
        "colab": {
          "base_uri": "https://localhost:8080/"
        },
        "id": "YCsxu5dJMt9Z",
        "outputId": "092e1988-7b2b-406f-8f28-822b309dfa7c"
      },
      "outputs": [
        {
          "output_type": "stream",
          "name": "stdout",
          "text": [
            "Collecting openai-whisper\n",
            "  Downloading openai-whisper-20240930.tar.gz (800 kB)\n",
            "\u001b[?25l     \u001b[90m━━━━━━━━━━━━━━━━━━━━━━━━━━━━━━━━━━━━━━━━\u001b[0m \u001b[32m0.0/800.5 kB\u001b[0m \u001b[31m?\u001b[0m eta \u001b[36m-:--:--\u001b[0m\r\u001b[2K     \u001b[90m━━━━━━━━━━━━━━━━━━━━━━━━━━━━━━━━━━━━━━━━\u001b[0m \u001b[32m800.5/800.5 kB\u001b[0m \u001b[31m34.2 MB/s\u001b[0m eta \u001b[36m0:00:00\u001b[0m\n",
            "\u001b[?25h  Installing build dependencies ... \u001b[?25l\u001b[?25hdone\n",
            "  Getting requirements to build wheel ... \u001b[?25l\u001b[?25hdone\n",
            "  Preparing metadata (pyproject.toml) ... \u001b[?25l\u001b[?25hdone\n",
            "Requirement already satisfied: numba in /usr/local/lib/python3.10/dist-packages (from openai-whisper) (0.60.0)\n",
            "Requirement already satisfied: numpy in /usr/local/lib/python3.10/dist-packages (from openai-whisper) (1.26.4)\n",
            "Requirement already satisfied: torch in /usr/local/lib/python3.10/dist-packages (from openai-whisper) (2.5.1+cu121)\n",
            "Requirement already satisfied: tqdm in /usr/local/lib/python3.10/dist-packages (from openai-whisper) (4.66.6)\n",
            "Requirement already satisfied: more-itertools in /usr/local/lib/python3.10/dist-packages (from openai-whisper) (10.5.0)\n",
            "Collecting tiktoken (from openai-whisper)\n",
            "  Downloading tiktoken-0.8.0-cp310-cp310-manylinux_2_17_x86_64.manylinux2014_x86_64.whl.metadata (6.6 kB)\n",
            "Collecting triton>=2.0.0 (from openai-whisper)\n",
            "  Downloading triton-3.1.0-cp310-cp310-manylinux_2_17_x86_64.manylinux2014_x86_64.whl.metadata (1.3 kB)\n",
            "Requirement already satisfied: filelock in /usr/local/lib/python3.10/dist-packages (from triton>=2.0.0->openai-whisper) (3.16.1)\n",
            "Requirement already satisfied: llvmlite<0.44,>=0.43.0dev0 in /usr/local/lib/python3.10/dist-packages (from numba->openai-whisper) (0.43.0)\n",
            "Requirement already satisfied: regex>=2022.1.18 in /usr/local/lib/python3.10/dist-packages (from tiktoken->openai-whisper) (2024.9.11)\n",
            "Requirement already satisfied: requests>=2.26.0 in /usr/local/lib/python3.10/dist-packages (from tiktoken->openai-whisper) (2.32.3)\n",
            "Requirement already satisfied: typing-extensions>=4.8.0 in /usr/local/lib/python3.10/dist-packages (from torch->openai-whisper) (4.12.2)\n",
            "Requirement already satisfied: networkx in /usr/local/lib/python3.10/dist-packages (from torch->openai-whisper) (3.4.2)\n",
            "Requirement already satisfied: jinja2 in /usr/local/lib/python3.10/dist-packages (from torch->openai-whisper) (3.1.4)\n",
            "Requirement already satisfied: fsspec in /usr/local/lib/python3.10/dist-packages (from torch->openai-whisper) (2024.10.0)\n",
            "Requirement already satisfied: sympy==1.13.1 in /usr/local/lib/python3.10/dist-packages (from torch->openai-whisper) (1.13.1)\n",
            "Requirement already satisfied: mpmath<1.4,>=1.1.0 in /usr/local/lib/python3.10/dist-packages (from sympy==1.13.1->torch->openai-whisper) (1.3.0)\n",
            "Requirement already satisfied: charset-normalizer<4,>=2 in /usr/local/lib/python3.10/dist-packages (from requests>=2.26.0->tiktoken->openai-whisper) (3.4.0)\n",
            "Requirement already satisfied: idna<4,>=2.5 in /usr/local/lib/python3.10/dist-packages (from requests>=2.26.0->tiktoken->openai-whisper) (3.10)\n",
            "Requirement already satisfied: urllib3<3,>=1.21.1 in /usr/local/lib/python3.10/dist-packages (from requests>=2.26.0->tiktoken->openai-whisper) (2.2.3)\n",
            "Requirement already satisfied: certifi>=2017.4.17 in /usr/local/lib/python3.10/dist-packages (from requests>=2.26.0->tiktoken->openai-whisper) (2024.8.30)\n",
            "Requirement already satisfied: MarkupSafe>=2.0 in /usr/local/lib/python3.10/dist-packages (from jinja2->torch->openai-whisper) (3.0.2)\n",
            "Downloading triton-3.1.0-cp310-cp310-manylinux_2_17_x86_64.manylinux2014_x86_64.whl (209.5 MB)\n",
            "\u001b[2K   \u001b[90m━━━━━━━━━━━━━━━━━━━━━━━━━━━━━━━━━━━━━━━━\u001b[0m \u001b[32m209.5/209.5 MB\u001b[0m \u001b[31m6.2 MB/s\u001b[0m eta \u001b[36m0:00:00\u001b[0m\n",
            "\u001b[?25hDownloading tiktoken-0.8.0-cp310-cp310-manylinux_2_17_x86_64.manylinux2014_x86_64.whl (1.2 MB)\n",
            "\u001b[2K   \u001b[90m━━━━━━━━━━━━━━━━━━━━━━━━━━━━━━━━━━━━━━━━\u001b[0m \u001b[32m1.2/1.2 MB\u001b[0m \u001b[31m58.3 MB/s\u001b[0m eta \u001b[36m0:00:00\u001b[0m\n",
            "\u001b[?25hBuilding wheels for collected packages: openai-whisper\n",
            "  Building wheel for openai-whisper (pyproject.toml) ... \u001b[?25l\u001b[?25hdone\n",
            "  Created wheel for openai-whisper: filename=openai_whisper-20240930-py3-none-any.whl size=803320 sha256=c727e352f4b6e735df9d378ed848b72b2b6094138d8e54be4f8c639f6f49ef9a\n",
            "  Stored in directory: /root/.cache/pip/wheels/dd/4a/1f/d1c4bf3b9133c8168fe617ed979cab7b14fe381d059ffb9d83\n",
            "Successfully built openai-whisper\n",
            "Installing collected packages: triton, tiktoken, openai-whisper\n",
            "Successfully installed openai-whisper-20240930 tiktoken-0.8.0 triton-3.1.0\n"
          ]
        }
      ],
      "source": [
        "!pip install openai-whisper"
      ]
    },
    {
      "cell_type": "code",
      "execution_count": null,
      "metadata": {
        "colab": {
          "base_uri": "https://localhost:8080/"
        },
        "id": "EWGQ_cabMuCT",
        "outputId": "e1bcfab5-0746-4c04-9d3b-57aeb8b3282a"
      },
      "outputs": [
        {
          "output_type": "stream",
          "name": "stdout",
          "text": [
            "Transcribing I Know_segment_1.wav...\n",
            "Transcription for I Know_segment_1.wav:\n",
            " I know you want me I know you want me there\n",
            "--------------------------------------------------\n",
            "Transcribing I Know_segment_2.wav...\n",
            "Transcription for I Know_segment_2.wav:\n",
            " I know you want me I know you want me there I know you're thinking of me I know you want me there Thanks for watching!\n",
            "--------------------------------------------------\n",
            "Transcribing I Know_segment_3.wav...\n",
            "Transcription for I Know_segment_3.wav:\n",
            " I know you want me I know you want me I know you want me dead I know you're together baby I know you want me dead\n",
            "--------------------------------------------------\n",
            "Transcribing I Know_segment_4.wav...\n",
            "Transcription for I Know_segment_4.wav:\n",
            " I know you want me there I know you want me I know you want me there I know you want me I know you want me there I know you want me there I know you want me I know you want me I know you want me I know you want me I know you want me I know you want me I know you want me I know you want me I know you want me I know you want me I know you want me I know you want me I know you want me I know you want me I know you want me I know you want me I know you want me I know you want me I know you want me I know you want me I know you want me I know you want me I know you want me I know you want me I know you want me I know you want me I know you want me I know you want me I know you want me I know you want me I know you want me I know you want me I know you want me I know you want me I know you want me I know you want me I know you want me I know you want me I know you want me I know you want me I know you want me I know you want me I know you want me I know you want me I know you want me I know you want me I know you want me I know you want me I know you want me I know you want me I know you want me I know you want me\n",
            "--------------------------------------------------\n",
            "Transcribing I Know_segment_5.wav...\n",
            "Transcription for I Know_segment_5.wav:\n",
            " I know you want me dead I know you want me I know you want me dead I know you think you're nothing I know that you can\n",
            "--------------------------------------------------\n",
            "Transcribing I Know_segment_6.wav...\n",
            "Transcription for I Know_segment_6.wav:\n",
            " I know you love me I know you love me\n",
            "--------------------------------------------------\n",
            "Transcribing I Know_segment_7.wav...\n",
            "Transcription for I Know_segment_7.wav:\n",
            "Lyrics are not provided.\n",
            "--------------------------------------------------\n",
            "Transcriptions have been saved to /content/transcriptions.json\n"
          ]
        }
      ],
      "source": [
        "import whisper\n",
        "import os\n",
        "import warnings\n",
        "import json\n",
        "\n",
        "# Suppress warnings\n",
        "warnings.filterwarnings(\"ignore\")\n",
        "\n",
        "# Load the Whisper model (use a model like \"base\" or larger for more accuracy)\n",
        "model = whisper.load_model(\"medium.en\")\n",
        "\n",
        "# Directory containing audio files\n",
        "audio_dir = \"/content/I Know_segments\"\n",
        "output_json_file = \"/content/transcriptions.json\"\n",
        "\n",
        "def transcribe_music(audio_path):\n",
        "    # Transcribe the audio file\n",
        "    result = model.transcribe(audio_path)\n",
        "\n",
        "    # Check if there is any transcribed text\n",
        "    if result[\"text\"].strip() == \"\":\n",
        "        return \"Lyrics are not provided.\"\n",
        "    else:\n",
        "        return result[\"text\"]\n",
        "\n",
        "def transcribe_all_audio_in_directory(directory_path):\n",
        "    # Initialize a list to store transcription results\n",
        "    transcription_data = {\"segments\": []}\n",
        "\n",
        "    # Sort files by filename to ensure proper order\n",
        "    audio_files = sorted(os.listdir(directory_path))\n",
        "\n",
        "    # Iterate through all files in the directory\n",
        "    for filename in audio_files:\n",
        "        file_path = os.path.join(directory_path, filename)\n",
        "\n",
        "        # Check if the file is an audio file (optional: check for file extension)\n",
        "        if file_path.endswith((\".mp3\", \".wav\", \".flac\", \".ogg\")):\n",
        "            print(f\"Transcribing {filename}...\")\n",
        "            transcription = transcribe_music(file_path)\n",
        "\n",
        "            transcription_data[\"segments\"].append({\n",
        "                \"filename\": filename,\n",
        "                \"transcription\": transcription\n",
        "            })\n",
        "\n",
        "            print(f\"Transcription for {filename}:\")\n",
        "            print(transcription)\n",
        "            print(\"-\" * 50)\n",
        "\n",
        "    # Save the transcription data to a JSON file\n",
        "    with open(output_json_file, \"w\") as json_file:\n",
        "        json.dump(transcription_data, json_file, indent=4)\n",
        "\n",
        "    print(f\"Transcriptions have been saved to {output_json_file}\")\n",
        "\n",
        "# Apply the transcription process to all audio files in the directory\n",
        "transcribe_all_audio_in_directory(audio_dir)\n"
      ]
    },
    {
      "cell_type": "code",
      "execution_count": null,
      "metadata": {
        "id": "bOskVmqMMuFr"
      },
      "outputs": [],
      "source": []
    },
    {
      "cell_type": "code",
      "execution_count": null,
      "metadata": {
        "id": "xSugYAwtMuI2"
      },
      "outputs": [],
      "source": []
    }
  ],
  "metadata": {
    "accelerator": "GPU",
    "colab": {
      "gpuType": "T4",
      "provenance": []
    },
    "kernelspec": {
      "display_name": "Python 3",
      "name": "python3"
    },
    "language_info": {
      "name": "python"
    }
  },
  "nbformat": 4,
  "nbformat_minor": 0
}