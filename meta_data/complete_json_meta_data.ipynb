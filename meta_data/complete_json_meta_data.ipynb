{
  "nbformat": 4,
  "nbformat_minor": 0,
  "metadata": {
    "colab": {
      "provenance": []
    },
    "kernelspec": {
      "name": "python3",
      "display_name": "Python 3"
    },
    "language_info": {
      "name": "python"
    }
  },
  "cells": [
    {
      "cell_type": "code",
      "source": [
        "import json\n",
        "import os\n",
        "\n",
        "# Define the paths to the directories\n",
        "genre_dir = '/content/drive/MyDrive/genre/U Got Me'\n",
        "mood_dir = '/content/drive/MyDrive/moods/U Got Me'\n",
        "key_dir = '/content/drive/MyDrive/tempo_key/U Got Me'\n",
        "\n",
        "# Get the filenames in the genre, mood, and key directories\n",
        "genre_files = [f for f in os.listdir(genre_dir) if f.endswith('_genre_predictions.json')]\n",
        "mood_files = [f for f in os.listdir(mood_dir) if f.endswith('_mood_metadata.json')]\n",
        "key_files = [f for f in os.listdir(key_dir) if f.endswith('.json')]\n",
        "\n",
        "# Extract base names from files\n",
        "def extract_base_name(filename, suffix):\n",
        "    return filename.replace(suffix, '')\n",
        "\n",
        "# Create dictionaries to store the base names and their corresponding files\n",
        "genre_base_names = {extract_base_name(f, '_genre_predictions.json'): f for f in genre_files}\n",
        "mood_base_names = {extract_base_name(f, '_mood_metadata.json'): f for f in mood_files}\n",
        "key_base_names = {extract_base_name(f, '.json'): f for f in key_files}\n",
        "\n",
        "# Print the extracted base names from each directory\n",
        "print(\"Genre base names:\", genre_base_names.keys())\n",
        "print(\"Mood base names:\", mood_base_names.keys())\n",
        "print(\"Key base names:\", key_base_names.keys())\n",
        "\n",
        "# Find common base names\n",
        "common_base_names = set(genre_base_names.keys()) & set(mood_base_names.keys()) & set(key_base_names.keys())\n",
        "\n",
        "# Ensure that there are matching files\n",
        "if not common_base_names:\n",
        "    raise ValueError(\"No matching base names found across the directories!\")\n",
        "\n",
        "# Directory to save combined metadata\n",
        "output_dir = '/content/U Got Me'\n",
        "os.makedirs(output_dir, exist_ok=True)\n",
        "\n",
        "# Process each matching set of files\n",
        "for base_name in common_base_names:\n",
        "    # Define file paths\n",
        "    genre_file_path = os.path.join(genre_dir, genre_base_names[base_name])\n",
        "    mood_file_path = os.path.join(mood_dir, mood_base_names[base_name])\n",
        "    key_file_path = os.path.join(key_dir, key_base_names[base_name])\n",
        "\n",
        "    # Load the data\n",
        "    with open(genre_file_path, 'r') as genre_file:\n",
        "        genre_data = json.load(genre_file)\n",
        "\n",
        "    with open(mood_file_path, 'r') as mood_file:\n",
        "        mood_data = json.load(mood_file)\n",
        "\n",
        "    with open(key_file_path, 'r') as key_file:\n",
        "        key_data = json.load(key_file)\n",
        "\n",
        "    # Sort genre data by confidence\n",
        "    genre_data_sorted = sorted(genre_data, key=lambda x: float(x['confidence'].replace('%', '')), reverse=True)\n",
        "\n",
        "    # Sort mood data by score\n",
        "    mood_data_sorted = sorted(mood_data, key=lambda x: x['highest_score_prediction']['score'], reverse=True)\n",
        "\n",
        "    # Sort key data by strength\n",
        "    key_data_sorted = sorted(key_data, key=lambda x: x['strength'], reverse=True)\n",
        "\n",
        "    # Extract top 3 unique genres\n",
        "    genres = []\n",
        "    seen_genres = set()\n",
        "    for entry in genre_data_sorted:\n",
        "        if entry['genre'] not in seen_genres:\n",
        "            genres.append(entry['genre'])\n",
        "            seen_genres.add(entry['genre'])\n",
        "        if len(genres) == 3:\n",
        "            break\n",
        "\n",
        "    # Extract top 3 unique moods\n",
        "    moods = []\n",
        "    seen_moods = set()\n",
        "    for entry in mood_data_sorted:\n",
        "        if entry['highest_score_prediction']['label'] not in seen_moods:\n",
        "            moods.append(entry['highest_score_prediction']['label'])\n",
        "            seen_moods.add(entry['highest_score_prediction']['label'])\n",
        "        if len(moods) == 3:\n",
        "            break\n",
        "\n",
        "    # Extract top 3 unique keys\n",
        "    keys = []\n",
        "    seen_keys = set()\n",
        "    for entry in key_data_sorted:\n",
        "        if entry['key'] not in seen_keys:\n",
        "            keys.append(entry['key'])\n",
        "            seen_keys.add(entry['key'])\n",
        "        if len(keys) == 3:\n",
        "            break\n",
        "\n",
        "    # Calculate average BPM\n",
        "    total_bpm = sum(entry['tempo_bpm'] for entry in key_data)\n",
        "    average_bpm = total_bpm / len(key_data) if key_data else 0\n",
        "\n",
        "    # Add song name\n",
        "    song_name = base_name.split('_')[0].replace(' ', '_')  # Replace spaces with underscores\n",
        "\n",
        "    # Combine the data\n",
        "    output_data = [{\n",
        "        \"song_name\": song_name,\n",
        "        \"genres\": genres,\n",
        "        \"moods\": moods,\n",
        "        \"keys\": keys,\n",
        "        \"bpm\": average_bpm\n",
        "    }]\n",
        "\n",
        "    # Define the output file path\n",
        "    output_file_path = os.path.join(output_dir, f'{base_name}_combined_metadata.json')\n",
        "\n",
        "    # Save the combined data to a JSON file\n",
        "    with open(output_file_path, 'w') as output_file:\n",
        "        json.dump(output_data, output_file, indent=4)\n",
        "\n",
        "    print(f\"Combined metadata saved to '{output_file_path}'\")\n"
      ],
      "metadata": {
        "colab": {
          "base_uri": "https://localhost:8080/"
        },
        "id": "JJLbqL1RQ9Qq",
        "outputId": "701d4b4f-0f83-4663-e112-e04b4adcff13"
      },
      "execution_count": null,
      "outputs": [
        {
          "output_type": "stream",
          "name": "stdout",
          "text": [
            "Genre base names: dict_keys(['U Got Me'])\n",
            "Mood base names: dict_keys(['U Got Me'])\n",
            "Key base names: dict_keys(['U Got Me'])\n",
            "Combined metadata saved to '/content/U Got Me/U Got Me_combined_metadata.json'\n"
          ]
        }
      ]
    },
    {
      "cell_type": "code",
      "source": [
        "import shutil\n",
        "import os\n",
        "\n",
        "# Use the output directory from the first block\n",
        "output_dir = '/content/Scrufizzer)'  # This is the directory where your combined metadata files are stored\n",
        "\n",
        "# Define the destination directory on Google Drive, including the directory name you want to create\n",
        "destination_dir = '/content/drive/MyDrive/Processed_Metadata/Scrufizzer)'  # This will create a 'Wild' folder in your Google Drive\n",
        "\n",
        "# Ensure the destination directory exists\n",
        "os.makedirs(os.path.dirname(destination_dir), exist_ok=True)\n",
        "\n",
        "# Copy the entire directory, including the directory itself\n",
        "shutil.copytree(output_dir, destination_dir, dirs_exist_ok=True)\n",
        "\n",
        "print(f\"Output directory '{output_dir}' copied to '{destination_dir}' on Google Drive.\")\n"
      ],
      "metadata": {
        "colab": {
          "base_uri": "https://localhost:8080/"
        },
        "id": "d1p4736gxfma",
        "outputId": "0b409a70-872d-47ef-b025-727133a99479"
      },
      "execution_count": null,
      "outputs": [
        {
          "output_type": "stream",
          "name": "stdout",
          "text": [
            "Output directory '/content/Scrufizzer)' copied to '/content/drive/MyDrive/Processed_Metadata/Scrufizzer)' on Google Drive.\n"
          ]
        }
      ]
    },
    {
      "cell_type": "code",
      "source": [],
      "metadata": {
        "id": "8PFZweowEKDb"
      },
      "execution_count": null,
      "outputs": []
    }
  ]
}