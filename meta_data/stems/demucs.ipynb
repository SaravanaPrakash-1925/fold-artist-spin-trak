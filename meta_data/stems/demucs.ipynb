{
  "nbformat": 4,
  "nbformat_minor": 0,
  "metadata": {
    "colab": {
      "provenance": [],
      "gpuType": "T4"
    },
    "kernelspec": {
      "name": "python3",
      "display_name": "Python 3"
    },
    "language_info": {
      "name": "python"
    },
    "accelerator": "GPU"
  },
  "cells": [
    {
      "cell_type": "code",
      "source": [
        "from google.colab import drive\n",
        "drive.mount('/content/drive')"
      ],
      "metadata": {
        "colab": {
          "base_uri": "https://localhost:8080/"
        },
        "id": "jGP1TewBYX03",
        "outputId": "f44978b7-77ae-44c4-cc01-87dbd219b056"
      },
      "execution_count": null,
      "outputs": [
        {
          "output_type": "stream",
          "name": "stdout",
          "text": [
            "Mounted at /content/drive\n"
          ]
        }
      ]
    },
    {
      "cell_type": "code",
      "execution_count": null,
      "metadata": {
        "colab": {
          "base_uri": "https://localhost:8080/"
        },
        "id": "1DP6muxxOxk1",
        "outputId": "28291d45-b957-41ef-ee00-e4c8c767edfa"
      },
      "outputs": [
        {
          "output_type": "stream",
          "name": "stdout",
          "text": [
            "Requirement already satisfied: demucs in /usr/local/lib/python3.10/dist-packages (4.0.1)\n",
            "Requirement already satisfied: dora-search in /usr/local/lib/python3.10/dist-packages (from demucs) (0.1.12)\n",
            "Requirement already satisfied: einops in /usr/local/lib/python3.10/dist-packages (from demucs) (0.8.0)\n",
            "Requirement already satisfied: julius>=0.2.3 in /usr/local/lib/python3.10/dist-packages (from demucs) (0.2.7)\n",
            "Requirement already satisfied: lameenc>=1.2 in /usr/local/lib/python3.10/dist-packages (from demucs) (1.7.0)\n",
            "Requirement already satisfied: openunmix in /usr/local/lib/python3.10/dist-packages (from demucs) (1.3.0)\n",
            "Requirement already satisfied: pyyaml in /usr/local/lib/python3.10/dist-packages (from demucs) (6.0.2)\n",
            "Requirement already satisfied: torch>=1.8.1 in /usr/local/lib/python3.10/dist-packages (from demucs) (2.5.1+cu121)\n",
            "Requirement already satisfied: torchaudio>=0.8 in /usr/local/lib/python3.10/dist-packages (from demucs) (2.5.1+cu121)\n",
            "Requirement already satisfied: tqdm in /usr/local/lib/python3.10/dist-packages (from demucs) (4.66.6)\n",
            "Requirement already satisfied: filelock in /usr/local/lib/python3.10/dist-packages (from torch>=1.8.1->demucs) (3.16.1)\n",
            "Requirement already satisfied: typing-extensions>=4.8.0 in /usr/local/lib/python3.10/dist-packages (from torch>=1.8.1->demucs) (4.12.2)\n",
            "Requirement already satisfied: networkx in /usr/local/lib/python3.10/dist-packages (from torch>=1.8.1->demucs) (3.4.2)\n",
            "Requirement already satisfied: jinja2 in /usr/local/lib/python3.10/dist-packages (from torch>=1.8.1->demucs) (3.1.4)\n",
            "Requirement already satisfied: fsspec in /usr/local/lib/python3.10/dist-packages (from torch>=1.8.1->demucs) (2024.10.0)\n",
            "Requirement already satisfied: sympy==1.13.1 in /usr/local/lib/python3.10/dist-packages (from torch>=1.8.1->demucs) (1.13.1)\n",
            "Requirement already satisfied: mpmath<1.4,>=1.1.0 in /usr/local/lib/python3.10/dist-packages (from sympy==1.13.1->torch>=1.8.1->demucs) (1.3.0)\n",
            "Requirement already satisfied: omegaconf in /usr/local/lib/python3.10/dist-packages (from dora-search->demucs) (2.3.0)\n",
            "Requirement already satisfied: retrying in /usr/local/lib/python3.10/dist-packages (from dora-search->demucs) (1.3.4)\n",
            "Requirement already satisfied: submitit in /usr/local/lib/python3.10/dist-packages (from dora-search->demucs) (1.5.2)\n",
            "Requirement already satisfied: treetable in /usr/local/lib/python3.10/dist-packages (from dora-search->demucs) (0.2.5)\n",
            "Requirement already satisfied: numpy in /usr/local/lib/python3.10/dist-packages (from openunmix->demucs) (1.26.4)\n",
            "Requirement already satisfied: MarkupSafe>=2.0 in /usr/local/lib/python3.10/dist-packages (from jinja2->torch>=1.8.1->demucs) (3.0.2)\n",
            "Requirement already satisfied: antlr4-python3-runtime==4.9.* in /usr/local/lib/python3.10/dist-packages (from omegaconf->dora-search->demucs) (4.9.3)\n",
            "Requirement already satisfied: six>=1.7.0 in /usr/local/lib/python3.10/dist-packages (from retrying->dora-search->demucs) (1.17.0)\n",
            "Requirement already satisfied: cloudpickle>=1.2.1 in /usr/local/lib/python3.10/dist-packages (from submitit->dora-search->demucs) (3.1.0)\n"
          ]
        }
      ],
      "source": [
        "!pip install demucs\n"
      ]
    },
    {
      "cell_type": "code",
      "source": [
        "import os\n",
        "import subprocess\n",
        "from zipfile import ZipFile\n",
        "from IPython.display import FileLink\n",
        "\n",
        "# Define the folder with your audio segments\n",
        "input_folder = \"/content/drive/MyDrive/audio_segments/Lipstick (feat. Robbie Rise)\"\n",
        "output_folder = \"/content/Lipstick (feat. Robbie Rise)\"\n",
        "zip_file = \"/content/Lipstick (feat. Robbie Rise)_Audio.zip\"\n",
        "\n",
        "# Specify the model you want to use\n",
        "demucs_model = \"htdemucs\"  # Change this to the desired model: htdemucs, mdx_extra, demucs, etc.\n",
        "\n",
        "# Ensure the output folder exists\n",
        "os.makedirs(output_folder, exist_ok=True)\n",
        "\n",
        "# Iterate over each file in the folder\n",
        "for filename in os.listdir(input_folder):\n",
        "    if filename.endswith(\".wav\"):  # Process only .wav files\n",
        "        input_path = os.path.join(input_folder, filename)\n",
        "        print(f\"Processing: {input_path} using model: {demucs_model}\")\n",
        "\n",
        "        # Run Demucs to separate the audio\n",
        "        subprocess.run([\n",
        "            \"demucs\",\n",
        "            input_path,\n",
        "            \"-o\", output_folder,  # Output directory for separated tracks\n",
        "            \"-n\", demucs_model    # Specify the model\n",
        "        ])\n",
        "\n",
        "# Zip the separated files for easy download\n",
        "print(\"Creating ZIP archive...\")\n",
        "with ZipFile(zip_file, \"w\") as zipf:\n",
        "    for root, _, files in os.walk(output_folder):\n",
        "        for file in files:\n",
        "            file_path = os.path.join(root, file)\n",
        "            arcname = os.path.relpath(file_path, output_folder)  # Relative path for zip\n",
        "            zipf.write(file_path, arcname)\n",
        "\n",
        "print(\"Separation and zipping complete.\")\n",
        "print(f\"Download the separated files: {zip_file}\")\n",
        "\n",
        "# Provide a download link\n",
        "FileLink(zip_file)"
      ],
      "metadata": {
        "colab": {
          "base_uri": "https://localhost:8080/",
          "height": 245
        },
        "id": "yqjfueyWbwZz",
        "outputId": "2c2c198a-a6c9-4390-cf01-9a58cbb44685"
      },
      "execution_count": null,
      "outputs": [
        {
          "output_type": "stream",
          "name": "stdout",
          "text": [
            "Processing: /content/drive/MyDrive/audio_segments/Lipstick (feat. Robbie Rise)/Lipstick (feat. Robbie Rise)_segment_1.wav using model: htdemucs\n",
            "Processing: /content/drive/MyDrive/audio_segments/Lipstick (feat. Robbie Rise)/Lipstick (feat. Robbie Rise)_segment_2.wav using model: htdemucs\n",
            "Processing: /content/drive/MyDrive/audio_segments/Lipstick (feat. Robbie Rise)/Lipstick (feat. Robbie Rise)_segment_3.wav using model: htdemucs\n",
            "Processing: /content/drive/MyDrive/audio_segments/Lipstick (feat. Robbie Rise)/Lipstick (feat. Robbie Rise)_segment_4.wav using model: htdemucs\n",
            "Processing: /content/drive/MyDrive/audio_segments/Lipstick (feat. Robbie Rise)/Lipstick (feat. Robbie Rise)_segment_5.wav using model: htdemucs\n",
            "Processing: /content/drive/MyDrive/audio_segments/Lipstick (feat. Robbie Rise)/Lipstick (feat. Robbie Rise)_segment_6.wav using model: htdemucs\n",
            "Processing: /content/drive/MyDrive/audio_segments/Lipstick (feat. Robbie Rise)/Lipstick (feat. Robbie Rise)_segment_7.wav using model: htdemucs\n",
            "Processing: /content/drive/MyDrive/audio_segments/Lipstick (feat. Robbie Rise)/Lipstick (feat. Robbie Rise)_segment_8.wav using model: htdemucs\n",
            "Creating ZIP archive...\n",
            "Separation and zipping complete.\n",
            "Download the separated files: /content/Lipstick (feat. Robbie Rise)_Audio.zip\n"
          ]
        },
        {
          "output_type": "execute_result",
          "data": {
            "text/plain": [
              "/content/Lipstick (feat. Robbie Rise)_Audio.zip"
            ],
            "text/html": [
              "<a href='/content/Lipstick (feat. Robbie Rise)_Audio.zip' target='_blank'>/content/Lipstick (feat. Robbie Rise)_Audio.zip</a><br>"
            ]
          },
          "metadata": {},
          "execution_count": 4
        }
      ]
    }
  ]
}